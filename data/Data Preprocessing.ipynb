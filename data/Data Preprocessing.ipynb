{
 "cells": [
  {
   "cell_type": "code",
   "execution_count": 5,
   "id": "bd1c6db7",
   "metadata": {},
   "outputs": [],
   "source": [
    "import pandas as pd\n",
    "import numpy as np\n",
    "import re\n",
    "import matplotlib.pyplot as plt\n",
    "from nrclex import NRCLex\n",
    "import time\n",
    "import math"
   ]
  },
  {
   "cell_type": "code",
   "execution_count": 2,
   "id": "7500649d",
   "metadata": {},
   "outputs": [],
   "source": [
    "profile = pd.read_csv(\"profiles.csv\")\n",
    "anime = pd.read_csv(\"anime.csv\")\n",
    "animes = pd.read_csv(\"animes.csv\")\n",
    "animelist = pd.read_csv(\"animelist.csv\")\n",
    "rating = pd.read_csv(\"rating_complete.csv\")\n",
    "watchingStatus = pd.read_csv(\"watching_status.csv\")\n",
    "reviews = pd.read_csv(\"reviews.csv\")\n",
    "animeSynopsis = pd.read_csv(\"anime_with_synopsis.csv\")"
   ]
  },
  {
   "cell_type": "code",
   "execution_count": 66,
   "id": "768d2170",
   "metadata": {
    "scrolled": true
   },
   "outputs": [
    {
     "data": {
      "text/plain": [
       "((81727, 4), (17562, 35), (19311, 12), (57633278, 3), (192112, 7), (16214, 5))"
      ]
     },
     "execution_count": 66,
     "metadata": {},
     "output_type": "execute_result"
    }
   ],
   "source": [
    "profile.shape, anime.shape, animes.shape, rating.shape,reviews.shape,animeSynopsis.shape"
   ]
  },
  {
   "cell_type": "markdown",
   "id": "a77d238b",
   "metadata": {},
   "source": [
    "# Process the profile data\n",
    "In this section we do two things to the profiles.csv, the first is to drop the link column which will not be used in this project, and the second is to add the \"num_favorite\" column which records the number of favorite anime of each user."
   ]
  },
  {
   "cell_type": "code",
   "execution_count": 4,
   "id": "df1822d5",
   "metadata": {
    "scrolled": true
   },
   "outputs": [
    {
     "data": {
      "text/html": [
       "<div>\n",
       "<style scoped>\n",
       "    .dataframe tbody tr th:only-of-type {\n",
       "        vertical-align: middle;\n",
       "    }\n",
       "\n",
       "    .dataframe tbody tr th {\n",
       "        vertical-align: top;\n",
       "    }\n",
       "\n",
       "    .dataframe thead th {\n",
       "        text-align: right;\n",
       "    }\n",
       "</style>\n",
       "<table border=\"1\" class=\"dataframe\">\n",
       "  <thead>\n",
       "    <tr style=\"text-align: right;\">\n",
       "      <th></th>\n",
       "      <th>profile</th>\n",
       "      <th>gender</th>\n",
       "      <th>birthday</th>\n",
       "      <th>favorites_anime</th>\n",
       "      <th>link</th>\n",
       "    </tr>\n",
       "  </thead>\n",
       "  <tbody>\n",
       "    <tr>\n",
       "      <th>0</th>\n",
       "      <td>DesolatePsyche</td>\n",
       "      <td>Male</td>\n",
       "      <td>Oct 2, 1994</td>\n",
       "      <td>['33352', '25013', '5530', '33674', '1482', '2...</td>\n",
       "      <td>https://myanimelist.net/profile/DesolatePsyche</td>\n",
       "    </tr>\n",
       "    <tr>\n",
       "      <th>1</th>\n",
       "      <td>baekbeans</td>\n",
       "      <td>Female</td>\n",
       "      <td>Nov 10, 2000</td>\n",
       "      <td>['11061', '31964', '853', '20583', '918', '925...</td>\n",
       "      <td>https://myanimelist.net/profile/baekbeans</td>\n",
       "    </tr>\n",
       "    <tr>\n",
       "      <th>2</th>\n",
       "      <td>skrn</td>\n",
       "      <td>NaN</td>\n",
       "      <td>NaN</td>\n",
       "      <td>['918', '2904', '11741', '17074', '23273', '32...</td>\n",
       "      <td>https://myanimelist.net/profile/skrn</td>\n",
       "    </tr>\n",
       "    <tr>\n",
       "      <th>3</th>\n",
       "      <td>edgewalker00</td>\n",
       "      <td>Male</td>\n",
       "      <td>Sep 5</td>\n",
       "      <td>['5680', '849', '2904', '3588', '37349']</td>\n",
       "      <td>https://myanimelist.net/profile/edgewalker00</td>\n",
       "    </tr>\n",
       "    <tr>\n",
       "      <th>4</th>\n",
       "      <td>aManOfCulture99</td>\n",
       "      <td>Male</td>\n",
       "      <td>Oct 30, 1999</td>\n",
       "      <td>['4181', '7791', '9617', '5680', '2167', '4382...</td>\n",
       "      <td>https://myanimelist.net/profile/aManOfCulture99</td>\n",
       "    </tr>\n",
       "  </tbody>\n",
       "</table>\n",
       "</div>"
      ],
      "text/plain": [
       "           profile  gender      birthday  \\\n",
       "0   DesolatePsyche    Male   Oct 2, 1994   \n",
       "1        baekbeans  Female  Nov 10, 2000   \n",
       "2             skrn     NaN           NaN   \n",
       "3     edgewalker00    Male         Sep 5   \n",
       "4  aManOfCulture99    Male  Oct 30, 1999   \n",
       "\n",
       "                                     favorites_anime  \\\n",
       "0  ['33352', '25013', '5530', '33674', '1482', '2...   \n",
       "1  ['11061', '31964', '853', '20583', '918', '925...   \n",
       "2  ['918', '2904', '11741', '17074', '23273', '32...   \n",
       "3           ['5680', '849', '2904', '3588', '37349']   \n",
       "4  ['4181', '7791', '9617', '5680', '2167', '4382...   \n",
       "\n",
       "                                              link  \n",
       "0   https://myanimelist.net/profile/DesolatePsyche  \n",
       "1        https://myanimelist.net/profile/baekbeans  \n",
       "2             https://myanimelist.net/profile/skrn  \n",
       "3     https://myanimelist.net/profile/edgewalker00  \n",
       "4  https://myanimelist.net/profile/aManOfCulture99  "
      ]
     },
     "execution_count": 4,
     "metadata": {},
     "output_type": "execute_result"
    }
   ],
   "source": [
    "profile.head()"
   ]
  },
  {
   "cell_type": "code",
   "execution_count": 40,
   "id": "20d1bc8e",
   "metadata": {},
   "outputs": [],
   "source": [
    "profile = profile.drop(\"link\",1)"
   ]
  },
  {
   "cell_type": "code",
   "execution_count": 72,
   "id": "990c4d3e",
   "metadata": {},
   "outputs": [],
   "source": [
    "length = [len(fav) for fav in profile[\"favorites_anime\"]]\n",
    "profile[\"num_favorite\"] = length"
   ]
  },
  {
   "cell_type": "code",
   "execution_count": 22,
   "id": "2ac5195a",
   "metadata": {},
   "outputs": [],
   "source": [
    "age = [2022-int(re.findall(\"[0-9]{4}\", text)[0]) if (not pd.isna(text) and len(re.findall(\"[0-9]{4}\", text))!=0)  else None for text in profile.birthday]\n",
    "profile[\"age\"] = age"
   ]
  },
  {
   "cell_type": "code",
   "execution_count": 25,
   "id": "65b58425",
   "metadata": {},
   "outputs": [],
   "source": [
    "profile.to_csv(\"profiles.csv\")"
   ]
  },
  {
   "cell_type": "markdown",
   "id": "cb77d111",
   "metadata": {},
   "source": [
    "# Handle missing values in the rating.csv file \n",
    "As the website indicated, all entries with rating = 0 are actually missing values, so we have to impute them as None. Also, weird values that are not in the indicated range would also be treated as missing."
   ]
  },
  {
   "cell_type": "code",
   "execution_count": 50,
   "id": "9ed53bf2",
   "metadata": {},
   "outputs": [],
   "source": [
    "ratings = animelist[\"rating\"]\n",
    "cleaned_rating = [rating if rating != 0 else None for rating in ratings]\n",
    "animelist[\"rating\"] = cleaned_rating"
   ]
  },
  {
   "cell_type": "code",
   "execution_count": 59,
   "id": "2919495b",
   "metadata": {},
   "outputs": [],
   "source": [
    "cleaned_watching = [status if status in [1,2,3,4,6] else None for status in animelist[\"watching_status\"]]\n",
    "animelist[\"watching_status\"] = cleaned_watching"
   ]
  },
  {
   "cell_type": "code",
   "execution_count": 61,
   "id": "e4f7f4ea",
   "metadata": {},
   "outputs": [
    {
     "data": {
      "text/html": [
       "<div>\n",
       "<style scoped>\n",
       "    .dataframe tbody tr th:only-of-type {\n",
       "        vertical-align: middle;\n",
       "    }\n",
       "\n",
       "    .dataframe tbody tr th {\n",
       "        vertical-align: top;\n",
       "    }\n",
       "\n",
       "    .dataframe thead th {\n",
       "        text-align: right;\n",
       "    }\n",
       "</style>\n",
       "<table border=\"1\" class=\"dataframe\">\n",
       "  <thead>\n",
       "    <tr style=\"text-align: right;\">\n",
       "      <th></th>\n",
       "      <th>user_id</th>\n",
       "      <th>anime_id</th>\n",
       "      <th>rating</th>\n",
       "      <th>watching_status</th>\n",
       "      <th>watched_episodes</th>\n",
       "    </tr>\n",
       "  </thead>\n",
       "  <tbody>\n",
       "    <tr>\n",
       "      <th>0</th>\n",
       "      <td>0</td>\n",
       "      <td>67</td>\n",
       "      <td>9.0</td>\n",
       "      <td>1.0</td>\n",
       "      <td>1</td>\n",
       "    </tr>\n",
       "    <tr>\n",
       "      <th>1</th>\n",
       "      <td>0</td>\n",
       "      <td>6702</td>\n",
       "      <td>7.0</td>\n",
       "      <td>1.0</td>\n",
       "      <td>4</td>\n",
       "    </tr>\n",
       "    <tr>\n",
       "      <th>2</th>\n",
       "      <td>0</td>\n",
       "      <td>242</td>\n",
       "      <td>10.0</td>\n",
       "      <td>1.0</td>\n",
       "      <td>4</td>\n",
       "    </tr>\n",
       "    <tr>\n",
       "      <th>3</th>\n",
       "      <td>0</td>\n",
       "      <td>4898</td>\n",
       "      <td>NaN</td>\n",
       "      <td>1.0</td>\n",
       "      <td>1</td>\n",
       "    </tr>\n",
       "    <tr>\n",
       "      <th>4</th>\n",
       "      <td>0</td>\n",
       "      <td>21</td>\n",
       "      <td>10.0</td>\n",
       "      <td>1.0</td>\n",
       "      <td>0</td>\n",
       "    </tr>\n",
       "  </tbody>\n",
       "</table>\n",
       "</div>"
      ],
      "text/plain": [
       "   user_id  anime_id  rating  watching_status  watched_episodes\n",
       "0        0        67     9.0              1.0                 1\n",
       "1        0      6702     7.0              1.0                 4\n",
       "2        0       242    10.0              1.0                 4\n",
       "3        0      4898     NaN              1.0                 1\n",
       "4        0        21    10.0              1.0                 0"
      ]
     },
     "execution_count": 61,
     "metadata": {},
     "output_type": "execute_result"
    }
   ],
   "source": [
    "animelist.head()"
   ]
  },
  {
   "cell_type": "code",
   "execution_count": 68,
   "id": "6aa5d52f",
   "metadata": {},
   "outputs": [],
   "source": [
    "animelist = animelist.iloc[:21846732,:]"
   ]
  },
  {
   "cell_type": "code",
   "execution_count": 69,
   "id": "783956df",
   "metadata": {},
   "outputs": [],
   "source": [
    "animelist.to_csv(\"animeRating.csv\")"
   ]
  },
  {
   "cell_type": "markdown",
   "id": "6abd0186",
   "metadata": {},
   "source": [
    "# For the dataset that stores information of various animes, we also want to delete unimportant columns"
   ]
  },
  {
   "cell_type": "code",
   "execution_count": 15,
   "id": "974a9b66",
   "metadata": {
    "scrolled": true
   },
   "outputs": [
    {
     "data": {
      "text/plain": [
       "Index(['MAL_ID', 'Name', 'Score', 'Genres', 'English name', 'Japanese name',\n",
       "       'Type', 'Episodes', 'Aired', 'Premiered', 'Producers', 'Licensors',\n",
       "       'Studios', 'Source', 'Duration', 'Rating', 'Ranked', 'Popularity',\n",
       "       'Members', 'Favorites', 'Watching', 'Completed', 'On-Hold', 'Dropped',\n",
       "       'Plan to Watch', 'Score-10', 'Score-9', 'Score-8', 'Score-7', 'Score-6',\n",
       "       'Score-5', 'Score-4', 'Score-3', 'Score-2', 'Score-1'],\n",
       "      dtype='object')"
      ]
     },
     "execution_count": 15,
     "metadata": {},
     "output_type": "execute_result"
    }
   ],
   "source": [
    "anime.columns"
   ]
  },
  {
   "cell_type": "code",
   "execution_count": 84,
   "id": "5891be37",
   "metadata": {},
   "outputs": [],
   "source": [
    "name = \"Score-\"\n",
    "for i in range(1,11):\n",
    "    colname = name + str(i)\n",
    "    anime = anime.drop(colname,1)"
   ]
  },
  {
   "cell_type": "code",
   "execution_count": 86,
   "id": "84c3cd2b",
   "metadata": {},
   "outputs": [],
   "source": [
    "anime.to_csv(\"anime.csv\")"
   ]
  },
  {
   "cell_type": "markdown",
   "id": "d2a45623",
   "metadata": {},
   "source": [
    "# Finally we need to process the review.csv data\n",
    "Extract the sentiment scores of each review, and also flatten the score dictionary."
   ]
  },
  {
   "cell_type": "code",
   "execution_count": 88,
   "id": "a257ab2e",
   "metadata": {},
   "outputs": [],
   "source": [
    "reviews = reviews.iloc[:84389,:]"
   ]
  },
  {
   "cell_type": "code",
   "execution_count": 92,
   "id": "54b9cf56",
   "metadata": {},
   "outputs": [],
   "source": [
    "reviews = reviews.drop(\"link\",1)"
   ]
  },
  {
   "cell_type": "code",
   "execution_count": 123,
   "id": "8bb56a2d",
   "metadata": {},
   "outputs": [],
   "source": [
    "reviews.text = reviews.text.str.lower()"
   ]
  },
  {
   "cell_type": "code",
   "execution_count": 116,
   "id": "4f24ec56",
   "metadata": {},
   "outputs": [],
   "source": [
    "overall = [int(re.findall(\"[0-9]+\", score)[0]) for score in reviews.scores]\n",
    "story = [int(re.findall(\"[0-9]+\", score)[1]) for score in reviews.scores]\n",
    "animation = [int(re.findall(\"[0-9]+\", score)[2]) for score in reviews.scores]\n",
    "sound = [int(re.findall(\"[0-9]+\", score)[3]) for score in reviews.scores]\n",
    "character = [int(re.findall(\"[0-9]+\", score)[4]) for score in reviews.scores]\n",
    "enjoyment = [int(re.findall(\"[0-9]+\", score)[5]) for score in reviews.scores]"
   ]
  },
  {
   "cell_type": "code",
   "execution_count": 132,
   "id": "4b2856ba",
   "metadata": {},
   "outputs": [],
   "source": [
    "reviews[\"overall\"] = overall\n",
    "reviews[\"story\"] = story\n",
    "reviews[\"animation\"] = animation \n",
    "reviews[\"sound\"] = sound\n",
    "reviews[\"character\"] = character\n",
    "reviews[\"enjoyment\"] = enjoyment"
   ]
  },
  {
   "cell_type": "code",
   "execution_count": 127,
   "id": "4951164d",
   "metadata": {},
   "outputs": [
    {
     "name": "stdout",
     "output_type": "stream",
     "text": [
      "The encoding process took  655.4879891872406  s.\n"
     ]
    }
   ],
   "source": [
    "start = time.time()\n",
    "senti_list = []\n",
    "for i in range(len(reviews.text)):\n",
    "    senti_list.append(NRCLex(reviews.text[i]))\n",
    "end = time.time()\n",
    "print(\"The encoding process took \", end-start, \" s.\")"
   ]
  },
  {
   "cell_type": "code",
   "execution_count": 128,
   "id": "df7e7570",
   "metadata": {},
   "outputs": [],
   "source": [
    "senti_detail = [senti_list[i].affect_frequencies for i in range(len(senti_list))]\n",
    "fear = [senti_detail[i][\"fear\"] for i in range(len(senti_detail))]\n",
    "anger = [senti_detail[i][\"anger\"] for i in range(len(senti_detail))]\n",
    "anticip = [senti_detail[i][\"anticip\"] for i in range(len(senti_detail))]\n",
    "trust = [senti_detail[i][\"trust\"] for i in range(len(senti_detail))]\n",
    "surprise = [senti_detail[i][\"surprise\"] for i in range(len(senti_detail))]\n",
    "positive = [senti_detail[i][\"positive\"] for i in range(len(senti_detail))]\n",
    "negative = [senti_detail[i][\"negative\"] for i in range(len(senti_detail))]\n",
    "sadness = [senti_detail[i][\"sadness\"] for i in range(len(senti_detail))]\n",
    "disgust = [senti_detail[i][\"disgust\"] for i in range(len(senti_detail))]\n",
    "joy = [senti_detail[i][\"joy\"] for i in range(len(senti_detail))]\n",
    "reviews[\"fear\"] = fear\n",
    "reviews[\"anger\"] = anger\n",
    "reviews[\"anticip\"] = anticip\n",
    "reviews[\"trust\"] = trust\n",
    "reviews[\"surprise\"] = surprise\n",
    "reviews[\"positive\"] = positive\n",
    "reviews[\"negative\"] = negative\n",
    "reviews[\"sadness\"] = sadness\n",
    "reviews[\"disgust\"] = disgust\n",
    "reviews[\"joy\"] = joy"
   ]
  },
  {
   "cell_type": "code",
   "execution_count": 133,
   "id": "947a4460",
   "metadata": {},
   "outputs": [
    {
     "data": {
      "text/html": [
       "<div>\n",
       "<style scoped>\n",
       "    .dataframe tbody tr th:only-of-type {\n",
       "        vertical-align: middle;\n",
       "    }\n",
       "\n",
       "    .dataframe tbody tr th {\n",
       "        vertical-align: top;\n",
       "    }\n",
       "\n",
       "    .dataframe thead th {\n",
       "        text-align: right;\n",
       "    }\n",
       "</style>\n",
       "<table border=\"1\" class=\"dataframe\">\n",
       "  <thead>\n",
       "    <tr style=\"text-align: right;\">\n",
       "      <th></th>\n",
       "      <th>uid</th>\n",
       "      <th>profile</th>\n",
       "      <th>anime_uid</th>\n",
       "      <th>text</th>\n",
       "      <th>score</th>\n",
       "      <th>scores</th>\n",
       "      <th>fear</th>\n",
       "      <th>anger</th>\n",
       "      <th>anticip</th>\n",
       "      <th>trust</th>\n",
       "      <th>...</th>\n",
       "      <th>negative</th>\n",
       "      <th>sadness</th>\n",
       "      <th>disgust</th>\n",
       "      <th>joy</th>\n",
       "      <th>overall</th>\n",
       "      <th>story</th>\n",
       "      <th>animation</th>\n",
       "      <th>sound</th>\n",
       "      <th>character</th>\n",
       "      <th>enjoyment</th>\n",
       "    </tr>\n",
       "  </thead>\n",
       "  <tbody>\n",
       "    <tr>\n",
       "      <th>0</th>\n",
       "      <td>255938</td>\n",
       "      <td>DesolatePsyche</td>\n",
       "      <td>34096</td>\n",
       "      <td>\\n           \\n         \\n           \\n       ...</td>\n",
       "      <td>8</td>\n",
       "      <td>{'Overall': '8', 'Story': '8', 'Animation': '8...</td>\n",
       "      <td>0.047619</td>\n",
       "      <td>0.054422</td>\n",
       "      <td>0.0</td>\n",
       "      <td>0.129252</td>\n",
       "      <td>...</td>\n",
       "      <td>0.136054</td>\n",
       "      <td>0.081633</td>\n",
       "      <td>0.054422</td>\n",
       "      <td>0.122449</td>\n",
       "      <td>8</td>\n",
       "      <td>8</td>\n",
       "      <td>8</td>\n",
       "      <td>10</td>\n",
       "      <td>9</td>\n",
       "      <td>8</td>\n",
       "    </tr>\n",
       "    <tr>\n",
       "      <th>1</th>\n",
       "      <td>259117</td>\n",
       "      <td>baekbeans</td>\n",
       "      <td>34599</td>\n",
       "      <td>\\n           \\n         \\n           \\n       ...</td>\n",
       "      <td>10</td>\n",
       "      <td>{'Overall': '10', 'Story': '10', 'Animation': ...</td>\n",
       "      <td>0.088235</td>\n",
       "      <td>0.029412</td>\n",
       "      <td>0.0</td>\n",
       "      <td>0.134454</td>\n",
       "      <td>...</td>\n",
       "      <td>0.105042</td>\n",
       "      <td>0.058824</td>\n",
       "      <td>0.021008</td>\n",
       "      <td>0.117647</td>\n",
       "      <td>10</td>\n",
       "      <td>10</td>\n",
       "      <td>10</td>\n",
       "      <td>10</td>\n",
       "      <td>10</td>\n",
       "      <td>10</td>\n",
       "    </tr>\n",
       "    <tr>\n",
       "      <th>2</th>\n",
       "      <td>253664</td>\n",
       "      <td>skrn</td>\n",
       "      <td>28891</td>\n",
       "      <td>\\n           \\n         \\n           \\n       ...</td>\n",
       "      <td>7</td>\n",
       "      <td>{'Overall': '7', 'Story': '7', 'Animation': '9...</td>\n",
       "      <td>0.028169</td>\n",
       "      <td>0.014085</td>\n",
       "      <td>0.0</td>\n",
       "      <td>0.225352</td>\n",
       "      <td>...</td>\n",
       "      <td>0.014085</td>\n",
       "      <td>0.042254</td>\n",
       "      <td>0.000000</td>\n",
       "      <td>0.183099</td>\n",
       "      <td>7</td>\n",
       "      <td>7</td>\n",
       "      <td>9</td>\n",
       "      <td>8</td>\n",
       "      <td>8</td>\n",
       "      <td>8</td>\n",
       "    </tr>\n",
       "    <tr>\n",
       "      <th>3</th>\n",
       "      <td>8254</td>\n",
       "      <td>edgewalker00</td>\n",
       "      <td>2904</td>\n",
       "      <td>\\n           \\n         \\n           \\n       ...</td>\n",
       "      <td>9</td>\n",
       "      <td>{'Overall': '9', 'Story': '9', 'Animation': '9...</td>\n",
       "      <td>0.056769</td>\n",
       "      <td>0.052402</td>\n",
       "      <td>0.0</td>\n",
       "      <td>0.122271</td>\n",
       "      <td>...</td>\n",
       "      <td>0.135371</td>\n",
       "      <td>0.074236</td>\n",
       "      <td>0.078603</td>\n",
       "      <td>0.096070</td>\n",
       "      <td>9</td>\n",
       "      <td>9</td>\n",
       "      <td>9</td>\n",
       "      <td>10</td>\n",
       "      <td>10</td>\n",
       "      <td>9</td>\n",
       "    </tr>\n",
       "    <tr>\n",
       "      <th>4</th>\n",
       "      <td>291149</td>\n",
       "      <td>aManOfCulture99</td>\n",
       "      <td>4181</td>\n",
       "      <td>\\n           \\n         \\n           \\n       ...</td>\n",
       "      <td>10</td>\n",
       "      <td>{'Overall': '10', 'Story': '10', 'Animation': ...</td>\n",
       "      <td>0.072727</td>\n",
       "      <td>0.036364</td>\n",
       "      <td>0.0</td>\n",
       "      <td>0.181818</td>\n",
       "      <td>...</td>\n",
       "      <td>0.054545</td>\n",
       "      <td>0.054545</td>\n",
       "      <td>0.018182</td>\n",
       "      <td>0.181818</td>\n",
       "      <td>10</td>\n",
       "      <td>10</td>\n",
       "      <td>8</td>\n",
       "      <td>9</td>\n",
       "      <td>10</td>\n",
       "      <td>10</td>\n",
       "    </tr>\n",
       "  </tbody>\n",
       "</table>\n",
       "<p>5 rows × 22 columns</p>\n",
       "</div>"
      ],
      "text/plain": [
       "      uid          profile  anime_uid  \\\n",
       "0  255938   DesolatePsyche      34096   \n",
       "1  259117        baekbeans      34599   \n",
       "2  253664             skrn      28891   \n",
       "3    8254     edgewalker00       2904   \n",
       "4  291149  aManOfCulture99       4181   \n",
       "\n",
       "                                                text  score  \\\n",
       "0  \\n           \\n         \\n           \\n       ...      8   \n",
       "1  \\n           \\n         \\n           \\n       ...     10   \n",
       "2  \\n           \\n         \\n           \\n       ...      7   \n",
       "3  \\n           \\n         \\n           \\n       ...      9   \n",
       "4  \\n           \\n         \\n           \\n       ...     10   \n",
       "\n",
       "                                              scores      fear     anger  \\\n",
       "0  {'Overall': '8', 'Story': '8', 'Animation': '8...  0.047619  0.054422   \n",
       "1  {'Overall': '10', 'Story': '10', 'Animation': ...  0.088235  0.029412   \n",
       "2  {'Overall': '7', 'Story': '7', 'Animation': '9...  0.028169  0.014085   \n",
       "3  {'Overall': '9', 'Story': '9', 'Animation': '9...  0.056769  0.052402   \n",
       "4  {'Overall': '10', 'Story': '10', 'Animation': ...  0.072727  0.036364   \n",
       "\n",
       "   anticip     trust  ...  negative   sadness   disgust       joy  overall  \\\n",
       "0      0.0  0.129252  ...  0.136054  0.081633  0.054422  0.122449        8   \n",
       "1      0.0  0.134454  ...  0.105042  0.058824  0.021008  0.117647       10   \n",
       "2      0.0  0.225352  ...  0.014085  0.042254  0.000000  0.183099        7   \n",
       "3      0.0  0.122271  ...  0.135371  0.074236  0.078603  0.096070        9   \n",
       "4      0.0  0.181818  ...  0.054545  0.054545  0.018182  0.181818       10   \n",
       "\n",
       "   story  animation  sound  character  enjoyment  \n",
       "0      8          8     10          9          8  \n",
       "1     10         10     10         10         10  \n",
       "2      7          9      8          8          8  \n",
       "3      9          9     10         10          9  \n",
       "4     10          8      9         10         10  \n",
       "\n",
       "[5 rows x 22 columns]"
      ]
     },
     "execution_count": 133,
     "metadata": {},
     "output_type": "execute_result"
    }
   ],
   "source": [
    "reviews.head()"
   ]
  },
  {
   "cell_type": "code",
   "execution_count": 135,
   "id": "c10ad321",
   "metadata": {},
   "outputs": [],
   "source": [
    "reviews = reviews.drop(\"scores\", 1)\n",
    "reviews = reviews.drop(\"uid\", 1)\n",
    "reviews = reviews.drop(\"anime_uid\", 1)"
   ]
  },
  {
   "cell_type": "code",
   "execution_count": 136,
   "id": "9e8be8df",
   "metadata": {},
   "outputs": [],
   "source": [
    "reviews.to_csv(\"reviews.csv\")"
   ]
  }
 ],
 "metadata": {
  "kernelspec": {
   "display_name": "Python 3",
   "language": "python",
   "name": "python3"
  },
  "language_info": {
   "codemirror_mode": {
    "name": "ipython",
    "version": 3
   },
   "file_extension": ".py",
   "mimetype": "text/x-python",
   "name": "python",
   "nbconvert_exporter": "python",
   "pygments_lexer": "ipython3",
   "version": "3.8.8"
  }
 },
 "nbformat": 4,
 "nbformat_minor": 5
}
